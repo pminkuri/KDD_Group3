{
 "cells": [
  {
   "cell_type": "markdown",
   "metadata": {},
   "source": [
    "## Association Rule Homework"
   ]
  },
  {
   "cell_type": "markdown",
   "metadata": {},
   "source": [
    "### Team Members:\n",
    "\n",
    "#### Shiva Sai Praneeth Chakinala - 801147603\n",
    "#### Chaitanya Kintali                      - 801097831\n",
    "#### Prashanth Minkuri                    - 801166901\n",
    "#### Pranitha Amrutha Veldanda    - 801166969"
   ]
  },
  {
   "cell_type": "markdown",
   "metadata": {},
   "source": [
    "### Introduction of dataset"
   ]
  },
  {
   "cell_type": "markdown",
   "metadata": {},
   "source": [
    "For this assignement we are taking new covid dataset which contains county  data with different features such as number of votes favoured to Trump and Biden, number of covid cases and deaths, Poverty and Unemployment percentages.\n",
    "\n",
    "Source : https://www.kaggle.com/etsc9287/2020-general-election-polls"
   ]
  },
  {
   "cell_type": "code",
   "execution_count": 1,
   "metadata": {},
   "outputs": [],
   "source": [
    "import numpy as np\n",
    "import pandas as pd\n",
    "from mlxtend.frequent_patterns import apriori, association_rules"
   ]
  },
  {
   "cell_type": "code",
   "execution_count": 2,
   "metadata": {},
   "outputs": [
    {
     "data": {
      "text/plain": [
       "(4867, 9)"
      ]
     },
     "execution_count": 2,
     "metadata": {},
     "output_type": "execute_result"
    }
   ],
   "source": [
    "df = pd.read_csv('county_statistics.csv')\n",
    "df.shape"
   ]
  },
  {
   "cell_type": "code",
   "execution_count": 3,
   "metadata": {},
   "outputs": [
    {
     "data": {
      "text/plain": [
       "Index(['county', 'state', 'percentage20_Donald_Trump',\n",
       "       'percentage20_Joe_Biden', 'cases', 'deaths', 'TotalPop', 'Poverty',\n",
       "       'Unemployment'],\n",
       "      dtype='object')"
      ]
     },
     "execution_count": 3,
     "metadata": {},
     "output_type": "execute_result"
    }
   ],
   "source": [
    "df.columns"
   ]
  },
  {
   "cell_type": "markdown",
   "metadata": {},
   "source": [
    "### Excluding all the rows which have null values"
   ]
  },
  {
   "cell_type": "code",
   "execution_count": 4,
   "metadata": {},
   "outputs": [],
   "source": [
    "df=df[df.Unemployment.notnull()]\n",
    "df=df[df.deaths.notnull()]\n",
    "df=df[df.percentage20_Joe_Biden.notnull()]\n"
   ]
  },
  {
   "cell_type": "markdown",
   "metadata": {},
   "source": [
    "#### Shape of dataframe after dropping all null values"
   ]
  },
  {
   "cell_type": "code",
   "execution_count": 5,
   "metadata": {},
   "outputs": [
    {
     "data": {
      "text/plain": [
       "(3048, 9)"
      ]
     },
     "execution_count": 5,
     "metadata": {},
     "output_type": "execute_result"
    }
   ],
   "source": [
    "df.shape"
   ]
  },
  {
   "cell_type": "code",
   "execution_count": 6,
   "metadata": {},
   "outputs": [],
   "source": [
    "df1=df[['county','state']]"
   ]
  },
  {
   "cell_type": "code",
   "execution_count": 7,
   "metadata": {},
   "outputs": [
    {
     "name": "stderr",
     "output_type": "stream",
     "text": [
      "<ipython-input-7-f3b55f77a096>:1: SettingWithCopyWarning: \n",
      "A value is trying to be set on a copy of a slice from a DataFrame.\n",
      "Try using .loc[row_indexer,col_indexer] = value instead\n",
      "\n",
      "See the caveats in the documentation: https://pandas.pydata.org/pandas-docs/stable/user_guide/indexing.html#returning-a-view-versus-a-copy\n",
      "  df1['Red_county']= df['percentage20_Donald_Trump']>df['percentage20_Joe_Biden']\n"
     ]
    }
   ],
   "source": [
    "df1['Red_county']= df['percentage20_Donald_Trump']>df['percentage20_Joe_Biden']"
   ]
  },
  {
   "cell_type": "code",
   "execution_count": 8,
   "metadata": {},
   "outputs": [
    {
     "name": "stderr",
     "output_type": "stream",
     "text": [
      "<ipython-input-8-e2443acf4fe1>:1: SettingWithCopyWarning: \n",
      "A value is trying to be set on a copy of a slice from a DataFrame.\n",
      "Try using .loc[row_indexer,col_indexer] = value instead\n",
      "\n",
      "See the caveats in the documentation: https://pandas.pydata.org/pandas-docs/stable/user_guide/indexing.html#returning-a-view-versus-a-copy\n",
      "  df1['Blue_county']= df['percentage20_Donald_Trump']<df['percentage20_Joe_Biden']\n"
     ]
    }
   ],
   "source": [
    "df1['Blue_county']= df['percentage20_Donald_Trump']<df['percentage20_Joe_Biden']"
   ]
  },
  {
   "cell_type": "code",
   "execution_count": 9,
   "metadata": {},
   "outputs": [
    {
     "data": {
      "text/html": [
       "<div>\n",
       "<style scoped>\n",
       "    .dataframe tbody tr th:only-of-type {\n",
       "        vertical-align: middle;\n",
       "    }\n",
       "\n",
       "    .dataframe tbody tr th {\n",
       "        vertical-align: top;\n",
       "    }\n",
       "\n",
       "    .dataframe thead th {\n",
       "        text-align: right;\n",
       "    }\n",
       "</style>\n",
       "<table border=\"1\" class=\"dataframe\">\n",
       "  <thead>\n",
       "    <tr style=\"text-align: right;\">\n",
       "      <th></th>\n",
       "      <th>county</th>\n",
       "      <th>state</th>\n",
       "      <th>Red_county</th>\n",
       "      <th>Blue_county</th>\n",
       "    </tr>\n",
       "  </thead>\n",
       "  <tbody>\n",
       "    <tr>\n",
       "      <th>0</th>\n",
       "      <td>Abbeville</td>\n",
       "      <td>SC</td>\n",
       "      <td>True</td>\n",
       "      <td>False</td>\n",
       "    </tr>\n",
       "    <tr>\n",
       "      <th>3</th>\n",
       "      <td>Acadia</td>\n",
       "      <td>LA</td>\n",
       "      <td>True</td>\n",
       "      <td>False</td>\n",
       "    </tr>\n",
       "    <tr>\n",
       "      <th>4</th>\n",
       "      <td>Accomack</td>\n",
       "      <td>VA</td>\n",
       "      <td>True</td>\n",
       "      <td>False</td>\n",
       "    </tr>\n",
       "    <tr>\n",
       "      <th>9</th>\n",
       "      <td>Ada</td>\n",
       "      <td>ID</td>\n",
       "      <td>True</td>\n",
       "      <td>False</td>\n",
       "    </tr>\n",
       "    <tr>\n",
       "      <th>10</th>\n",
       "      <td>Adair</td>\n",
       "      <td>IA</td>\n",
       "      <td>True</td>\n",
       "      <td>False</td>\n",
       "    </tr>\n",
       "    <tr>\n",
       "      <th>11</th>\n",
       "      <td>Adair</td>\n",
       "      <td>KY</td>\n",
       "      <td>True</td>\n",
       "      <td>False</td>\n",
       "    </tr>\n",
       "    <tr>\n",
       "      <th>12</th>\n",
       "      <td>Adair</td>\n",
       "      <td>MO</td>\n",
       "      <td>True</td>\n",
       "      <td>False</td>\n",
       "    </tr>\n",
       "    <tr>\n",
       "      <th>13</th>\n",
       "      <td>Adair</td>\n",
       "      <td>OK</td>\n",
       "      <td>True</td>\n",
       "      <td>False</td>\n",
       "    </tr>\n",
       "    <tr>\n",
       "      <th>14</th>\n",
       "      <td>Adams</td>\n",
       "      <td>CO</td>\n",
       "      <td>False</td>\n",
       "      <td>True</td>\n",
       "    </tr>\n",
       "    <tr>\n",
       "      <th>15</th>\n",
       "      <td>Adams</td>\n",
       "      <td>IA</td>\n",
       "      <td>True</td>\n",
       "      <td>False</td>\n",
       "    </tr>\n",
       "    <tr>\n",
       "      <th>16</th>\n",
       "      <td>Adams</td>\n",
       "      <td>ID</td>\n",
       "      <td>True</td>\n",
       "      <td>False</td>\n",
       "    </tr>\n",
       "    <tr>\n",
       "      <th>17</th>\n",
       "      <td>Adams</td>\n",
       "      <td>IL</td>\n",
       "      <td>True</td>\n",
       "      <td>False</td>\n",
       "    </tr>\n",
       "    <tr>\n",
       "      <th>18</th>\n",
       "      <td>Adams</td>\n",
       "      <td>IN</td>\n",
       "      <td>True</td>\n",
       "      <td>False</td>\n",
       "    </tr>\n",
       "    <tr>\n",
       "      <th>20</th>\n",
       "      <td>Adams</td>\n",
       "      <td>MS</td>\n",
       "      <td>False</td>\n",
       "      <td>True</td>\n",
       "    </tr>\n",
       "    <tr>\n",
       "      <th>21</th>\n",
       "      <td>Adams</td>\n",
       "      <td>ND</td>\n",
       "      <td>True</td>\n",
       "      <td>False</td>\n",
       "    </tr>\n",
       "    <tr>\n",
       "      <th>22</th>\n",
       "      <td>Adams</td>\n",
       "      <td>NE</td>\n",
       "      <td>True</td>\n",
       "      <td>False</td>\n",
       "    </tr>\n",
       "    <tr>\n",
       "      <th>23</th>\n",
       "      <td>Adams</td>\n",
       "      <td>OH</td>\n",
       "      <td>True</td>\n",
       "      <td>False</td>\n",
       "    </tr>\n",
       "    <tr>\n",
       "      <th>24</th>\n",
       "      <td>Adams</td>\n",
       "      <td>PA</td>\n",
       "      <td>True</td>\n",
       "      <td>False</td>\n",
       "    </tr>\n",
       "    <tr>\n",
       "      <th>25</th>\n",
       "      <td>Adams</td>\n",
       "      <td>WA</td>\n",
       "      <td>True</td>\n",
       "      <td>False</td>\n",
       "    </tr>\n",
       "    <tr>\n",
       "      <th>26</th>\n",
       "      <td>Adams</td>\n",
       "      <td>WI</td>\n",
       "      <td>True</td>\n",
       "      <td>False</td>\n",
       "    </tr>\n",
       "  </tbody>\n",
       "</table>\n",
       "</div>"
      ],
      "text/plain": [
       "       county state  Red_county  Blue_county\n",
       "0   Abbeville    SC        True        False\n",
       "3      Acadia    LA        True        False\n",
       "4    Accomack    VA        True        False\n",
       "9         Ada    ID        True        False\n",
       "10      Adair    IA        True        False\n",
       "11      Adair    KY        True        False\n",
       "12      Adair    MO        True        False\n",
       "13      Adair    OK        True        False\n",
       "14      Adams    CO       False         True\n",
       "15      Adams    IA        True        False\n",
       "16      Adams    ID        True        False\n",
       "17      Adams    IL        True        False\n",
       "18      Adams    IN        True        False\n",
       "20      Adams    MS       False         True\n",
       "21      Adams    ND        True        False\n",
       "22      Adams    NE        True        False\n",
       "23      Adams    OH        True        False\n",
       "24      Adams    PA        True        False\n",
       "25      Adams    WA        True        False\n",
       "26      Adams    WI        True        False"
      ]
     },
     "execution_count": 9,
     "metadata": {},
     "output_type": "execute_result"
    }
   ],
   "source": [
    "df1.head(20)"
   ]
  },
  {
   "cell_type": "code",
   "execution_count": 10,
   "metadata": {},
   "outputs": [
    {
     "data": {
      "text/plain": [
       "True     2577\n",
       "False     471\n",
       "Name: Red_county, dtype: int64"
      ]
     },
     "execution_count": 10,
     "metadata": {},
     "output_type": "execute_result"
    }
   ],
   "source": [
    "df1.Red_county.value_counts()"
   ]
  },
  {
   "cell_type": "code",
   "execution_count": 11,
   "metadata": {},
   "outputs": [
    {
     "data": {
      "text/plain": [
       "False    2577\n",
       "True      471\n",
       "Name: Blue_county, dtype: int64"
      ]
     },
     "execution_count": 11,
     "metadata": {},
     "output_type": "execute_result"
    }
   ],
   "source": [
    "\n",
    "df1.Blue_county.value_counts()\n"
   ]
  },
  {
   "cell_type": "code",
   "execution_count": 12,
   "metadata": {},
   "outputs": [
    {
     "data": {
      "text/html": [
       "<div>\n",
       "<style scoped>\n",
       "    .dataframe tbody tr th:only-of-type {\n",
       "        vertical-align: middle;\n",
       "    }\n",
       "\n",
       "    .dataframe tbody tr th {\n",
       "        vertical-align: top;\n",
       "    }\n",
       "\n",
       "    .dataframe thead th {\n",
       "        text-align: right;\n",
       "    }\n",
       "</style>\n",
       "<table border=\"1\" class=\"dataframe\">\n",
       "  <thead>\n",
       "    <tr style=\"text-align: right;\">\n",
       "      <th></th>\n",
       "      <th>county</th>\n",
       "      <th>state</th>\n",
       "      <th>Red_county</th>\n",
       "      <th>Blue_county</th>\n",
       "    </tr>\n",
       "  </thead>\n",
       "  <tbody>\n",
       "    <tr>\n",
       "      <th>0</th>\n",
       "      <td>Abbeville</td>\n",
       "      <td>SC</td>\n",
       "      <td>True</td>\n",
       "      <td>False</td>\n",
       "    </tr>\n",
       "    <tr>\n",
       "      <th>3</th>\n",
       "      <td>Acadia</td>\n",
       "      <td>LA</td>\n",
       "      <td>True</td>\n",
       "      <td>False</td>\n",
       "    </tr>\n",
       "    <tr>\n",
       "      <th>4</th>\n",
       "      <td>Accomack</td>\n",
       "      <td>VA</td>\n",
       "      <td>True</td>\n",
       "      <td>False</td>\n",
       "    </tr>\n",
       "    <tr>\n",
       "      <th>9</th>\n",
       "      <td>Ada</td>\n",
       "      <td>ID</td>\n",
       "      <td>True</td>\n",
       "      <td>False</td>\n",
       "    </tr>\n",
       "    <tr>\n",
       "      <th>10</th>\n",
       "      <td>Adair</td>\n",
       "      <td>IA</td>\n",
       "      <td>True</td>\n",
       "      <td>False</td>\n",
       "    </tr>\n",
       "    <tr>\n",
       "      <th>...</th>\n",
       "      <td>...</td>\n",
       "      <td>...</td>\n",
       "      <td>...</td>\n",
       "      <td>...</td>\n",
       "    </tr>\n",
       "    <tr>\n",
       "      <th>4862</th>\n",
       "      <td>Yuma</td>\n",
       "      <td>AZ</td>\n",
       "      <td>True</td>\n",
       "      <td>False</td>\n",
       "    </tr>\n",
       "    <tr>\n",
       "      <th>4863</th>\n",
       "      <td>Yuma</td>\n",
       "      <td>CO</td>\n",
       "      <td>True</td>\n",
       "      <td>False</td>\n",
       "    </tr>\n",
       "    <tr>\n",
       "      <th>4864</th>\n",
       "      <td>Zapata</td>\n",
       "      <td>TX</td>\n",
       "      <td>True</td>\n",
       "      <td>False</td>\n",
       "    </tr>\n",
       "    <tr>\n",
       "      <th>4865</th>\n",
       "      <td>Zavala</td>\n",
       "      <td>TX</td>\n",
       "      <td>False</td>\n",
       "      <td>True</td>\n",
       "    </tr>\n",
       "    <tr>\n",
       "      <th>4866</th>\n",
       "      <td>Ziebach</td>\n",
       "      <td>SD</td>\n",
       "      <td>False</td>\n",
       "      <td>True</td>\n",
       "    </tr>\n",
       "  </tbody>\n",
       "</table>\n",
       "<p>3048 rows × 4 columns</p>\n",
       "</div>"
      ],
      "text/plain": [
       "         county state  Red_county  Blue_county\n",
       "0     Abbeville    SC        True        False\n",
       "3        Acadia    LA        True        False\n",
       "4      Accomack    VA        True        False\n",
       "9           Ada    ID        True        False\n",
       "10        Adair    IA        True        False\n",
       "...         ...   ...         ...          ...\n",
       "4862       Yuma    AZ        True        False\n",
       "4863       Yuma    CO        True        False\n",
       "4864     Zapata    TX        True        False\n",
       "4865     Zavala    TX       False         True\n",
       "4866    Ziebach    SD       False         True\n",
       "\n",
       "[3048 rows x 4 columns]"
      ]
     },
     "execution_count": 12,
     "metadata": {},
     "output_type": "execute_result"
    }
   ],
   "source": [
    "df1"
   ]
  },
  {
   "cell_type": "code",
   "execution_count": 13,
   "metadata": {},
   "outputs": [
    {
     "data": {
      "text/plain": [
       "(3048, 4)"
      ]
     },
     "execution_count": 13,
     "metadata": {},
     "output_type": "execute_result"
    }
   ],
   "source": [
    "df1.shape"
   ]
  },
  {
   "cell_type": "markdown",
   "metadata": {},
   "source": [
    "The apriori algorithmn implemented by mlxtend requires a dataframe that has either 0 and 1 or True and False as the data. In order to modify the dataframe into that format we will find the counties which have top 5% deaths and 5% cases.Similary we will compute counties which have top 10% Unemployment and proverty population"
   ]
  },
  {
   "cell_type": "code",
   "execution_count": 14,
   "metadata": {},
   "outputs": [
    {
     "name": "stderr",
     "output_type": "stream",
     "text": [
      "<ipython-input-14-812e23a6c5b0>:1: SettingWithCopyWarning: \n",
      "A value is trying to be set on a copy of a slice from a DataFrame.\n",
      "Try using .loc[row_indexer,col_indexer] = value instead\n",
      "\n",
      "See the caveats in the documentation: https://pandas.pydata.org/pandas-docs/stable/user_guide/indexing.html#returning-a-view-versus-a-copy\n",
      "  df1['death_percent']=(df['deaths']*100)/df['cases']\n"
     ]
    }
   ],
   "source": [
    "df1['death_percent']=(df['deaths']*100)/df['cases']"
   ]
  },
  {
   "cell_type": "code",
   "execution_count": 15,
   "metadata": {},
   "outputs": [
    {
     "name": "stderr",
     "output_type": "stream",
     "text": [
      "<ipython-input-15-bad07cede716>:1: SettingWithCopyWarning: \n",
      "A value is trying to be set on a copy of a slice from a DataFrame.\n",
      "Try using .loc[row_indexer,col_indexer] = value instead\n",
      "\n",
      "See the caveats in the documentation: https://pandas.pydata.org/pandas-docs/stable/user_guide/indexing.html#returning-a-view-versus-a-copy\n",
      "  df1['cases_percent']=(df['cases']*100)/df['TotalPop']\n"
     ]
    }
   ],
   "source": [
    "df1['cases_percent']=(df['cases']*100)/df['TotalPop']"
   ]
  },
  {
   "cell_type": "code",
   "execution_count": 16,
   "metadata": {},
   "outputs": [
    {
     "name": "stderr",
     "output_type": "stream",
     "text": [
      "<ipython-input-16-62363cc236fb>:1: SettingWithCopyWarning: \n",
      "A value is trying to be set on a copy of a slice from a DataFrame.\n",
      "Try using .loc[row_indexer,col_indexer] = value instead\n",
      "\n",
      "See the caveats in the documentation: https://pandas.pydata.org/pandas-docs/stable/user_guide/indexing.html#returning-a-view-versus-a-copy\n",
      "  df1['Top_Deaths']=df1['death_percent']>5\n"
     ]
    }
   ],
   "source": [
    "df1['Top_Deaths']=df1['death_percent']>5"
   ]
  },
  {
   "cell_type": "code",
   "execution_count": 17,
   "metadata": {},
   "outputs": [
    {
     "name": "stderr",
     "output_type": "stream",
     "text": [
      "<ipython-input-17-5e905bf8fed2>:1: SettingWithCopyWarning: \n",
      "A value is trying to be set on a copy of a slice from a DataFrame.\n",
      "Try using .loc[row_indexer,col_indexer] = value instead\n",
      "\n",
      "See the caveats in the documentation: https://pandas.pydata.org/pandas-docs/stable/user_guide/indexing.html#returning-a-view-versus-a-copy\n",
      "  df1['Top_cases']=df1['cases_percent']>5\n"
     ]
    }
   ],
   "source": [
    "df1['Top_cases']=df1['cases_percent']>5"
   ]
  },
  {
   "cell_type": "code",
   "execution_count": 18,
   "metadata": {},
   "outputs": [
    {
     "data": {
      "text/plain": [
       "False    2739\n",
       "True      309\n",
       "Name: Top_cases, dtype: int64"
      ]
     },
     "execution_count": 18,
     "metadata": {},
     "output_type": "execute_result"
    }
   ],
   "source": [
    "df1['Top_cases'].value_counts()"
   ]
  },
  {
   "cell_type": "code",
   "execution_count": 19,
   "metadata": {},
   "outputs": [
    {
     "data": {
      "text/plain": [
       "False    2858\n",
       "True      190\n",
       "Name: Top_Deaths, dtype: int64"
      ]
     },
     "execution_count": 19,
     "metadata": {},
     "output_type": "execute_result"
    }
   ],
   "source": [
    "df1['Top_Deaths'].value_counts()"
   ]
  },
  {
   "cell_type": "code",
   "execution_count": 20,
   "metadata": {},
   "outputs": [],
   "source": [
    "df1['Top_unemploy']= df['Unemployment']>10"
   ]
  },
  {
   "cell_type": "code",
   "execution_count": 21,
   "metadata": {},
   "outputs": [
    {
     "data": {
      "text/plain": [
       "False    2787\n",
       "True      261\n",
       "Name: Top_unemploy, dtype: int64"
      ]
     },
     "execution_count": 21,
     "metadata": {},
     "output_type": "execute_result"
    }
   ],
   "source": [
    "df1['Top_unemploy'].value_counts()"
   ]
  },
  {
   "cell_type": "code",
   "execution_count": 22,
   "metadata": {},
   "outputs": [],
   "source": [
    "df1['Top_Poverty']= df['Poverty']>10"
   ]
  },
  {
   "cell_type": "code",
   "execution_count": 23,
   "metadata": {},
   "outputs": [
    {
     "data": {
      "text/plain": [
       "True     2528\n",
       "False     520\n",
       "Name: Top_Poverty, dtype: int64"
      ]
     },
     "execution_count": 23,
     "metadata": {},
     "output_type": "execute_result"
    }
   ],
   "source": [
    "df1['Top_Poverty'].value_counts()\n"
   ]
  },
  {
   "cell_type": "code",
   "execution_count": 24,
   "metadata": {},
   "outputs": [],
   "source": [
    "df1.to_csv('filter1.csv')"
   ]
  },
  {
   "cell_type": "code",
   "execution_count": 25,
   "metadata": {},
   "outputs": [],
   "source": [
    "df1.drop(['state', 'death_percent','cases_percent'], axis = 1,inplace=True)"
   ]
  },
  {
   "cell_type": "code",
   "execution_count": 26,
   "metadata": {},
   "outputs": [
    {
     "data": {
      "text/html": [
       "<div>\n",
       "<style scoped>\n",
       "    .dataframe tbody tr th:only-of-type {\n",
       "        vertical-align: middle;\n",
       "    }\n",
       "\n",
       "    .dataframe tbody tr th {\n",
       "        vertical-align: top;\n",
       "    }\n",
       "\n",
       "    .dataframe thead th {\n",
       "        text-align: right;\n",
       "    }\n",
       "</style>\n",
       "<table border=\"1\" class=\"dataframe\">\n",
       "  <thead>\n",
       "    <tr style=\"text-align: right;\">\n",
       "      <th></th>\n",
       "      <th>county</th>\n",
       "      <th>Red_county</th>\n",
       "      <th>Blue_county</th>\n",
       "      <th>Top_Deaths</th>\n",
       "      <th>Top_cases</th>\n",
       "      <th>Top_unemploy</th>\n",
       "      <th>Top_Poverty</th>\n",
       "    </tr>\n",
       "  </thead>\n",
       "  <tbody>\n",
       "    <tr>\n",
       "      <th>0</th>\n",
       "      <td>Abbeville</td>\n",
       "      <td>True</td>\n",
       "      <td>False</td>\n",
       "      <td>False</td>\n",
       "      <td>False</td>\n",
       "      <td>False</td>\n",
       "      <td>True</td>\n",
       "    </tr>\n",
       "    <tr>\n",
       "      <th>3</th>\n",
       "      <td>Acadia</td>\n",
       "      <td>True</td>\n",
       "      <td>False</td>\n",
       "      <td>False</td>\n",
       "      <td>True</td>\n",
       "      <td>False</td>\n",
       "      <td>True</td>\n",
       "    </tr>\n",
       "    <tr>\n",
       "      <th>4</th>\n",
       "      <td>Accomack</td>\n",
       "      <td>True</td>\n",
       "      <td>False</td>\n",
       "      <td>False</td>\n",
       "      <td>False</td>\n",
       "      <td>False</td>\n",
       "      <td>True</td>\n",
       "    </tr>\n",
       "    <tr>\n",
       "      <th>9</th>\n",
       "      <td>Ada</td>\n",
       "      <td>True</td>\n",
       "      <td>False</td>\n",
       "      <td>False</td>\n",
       "      <td>False</td>\n",
       "      <td>False</td>\n",
       "      <td>True</td>\n",
       "    </tr>\n",
       "    <tr>\n",
       "      <th>10</th>\n",
       "      <td>Adair</td>\n",
       "      <td>True</td>\n",
       "      <td>False</td>\n",
       "      <td>False</td>\n",
       "      <td>False</td>\n",
       "      <td>False</td>\n",
       "      <td>False</td>\n",
       "    </tr>\n",
       "    <tr>\n",
       "      <th>...</th>\n",
       "      <td>...</td>\n",
       "      <td>...</td>\n",
       "      <td>...</td>\n",
       "      <td>...</td>\n",
       "      <td>...</td>\n",
       "      <td>...</td>\n",
       "      <td>...</td>\n",
       "    </tr>\n",
       "    <tr>\n",
       "      <th>4862</th>\n",
       "      <td>Yuma</td>\n",
       "      <td>True</td>\n",
       "      <td>False</td>\n",
       "      <td>False</td>\n",
       "      <td>True</td>\n",
       "      <td>True</td>\n",
       "      <td>True</td>\n",
       "    </tr>\n",
       "    <tr>\n",
       "      <th>4863</th>\n",
       "      <td>Yuma</td>\n",
       "      <td>True</td>\n",
       "      <td>False</td>\n",
       "      <td>False</td>\n",
       "      <td>False</td>\n",
       "      <td>False</td>\n",
       "      <td>True</td>\n",
       "    </tr>\n",
       "    <tr>\n",
       "      <th>4864</th>\n",
       "      <td>Zapata</td>\n",
       "      <td>True</td>\n",
       "      <td>False</td>\n",
       "      <td>False</td>\n",
       "      <td>False</td>\n",
       "      <td>True</td>\n",
       "      <td>True</td>\n",
       "    </tr>\n",
       "    <tr>\n",
       "      <th>4865</th>\n",
       "      <td>Zavala</td>\n",
       "      <td>False</td>\n",
       "      <td>True</td>\n",
       "      <td>False</td>\n",
       "      <td>False</td>\n",
       "      <td>True</td>\n",
       "      <td>True</td>\n",
       "    </tr>\n",
       "    <tr>\n",
       "      <th>4866</th>\n",
       "      <td>Ziebach</td>\n",
       "      <td>False</td>\n",
       "      <td>True</td>\n",
       "      <td>False</td>\n",
       "      <td>False</td>\n",
       "      <td>True</td>\n",
       "      <td>True</td>\n",
       "    </tr>\n",
       "  </tbody>\n",
       "</table>\n",
       "<p>3048 rows × 7 columns</p>\n",
       "</div>"
      ],
      "text/plain": [
       "         county  Red_county  Blue_county  Top_Deaths  Top_cases  Top_unemploy  \\\n",
       "0     Abbeville        True        False       False      False         False   \n",
       "3        Acadia        True        False       False       True         False   \n",
       "4      Accomack        True        False       False      False         False   \n",
       "9           Ada        True        False       False      False         False   \n",
       "10        Adair        True        False       False      False         False   \n",
       "...         ...         ...          ...         ...        ...           ...   \n",
       "4862       Yuma        True        False       False       True          True   \n",
       "4863       Yuma        True        False       False      False         False   \n",
       "4864     Zapata        True        False       False      False          True   \n",
       "4865     Zavala       False         True       False      False          True   \n",
       "4866    Ziebach       False         True       False      False          True   \n",
       "\n",
       "      Top_Poverty  \n",
       "0            True  \n",
       "3            True  \n",
       "4            True  \n",
       "9            True  \n",
       "10          False  \n",
       "...           ...  \n",
       "4862         True  \n",
       "4863         True  \n",
       "4864         True  \n",
       "4865         True  \n",
       "4866         True  \n",
       "\n",
       "[3048 rows x 7 columns]"
      ]
     },
     "execution_count": 26,
     "metadata": {},
     "output_type": "execute_result"
    }
   ],
   "source": [
    "df1"
   ]
  },
  {
   "cell_type": "code",
   "execution_count": 27,
   "metadata": {},
   "outputs": [],
   "source": [
    "df1=df1.set_index('county')"
   ]
  },
  {
   "cell_type": "code",
   "execution_count": 28,
   "metadata": {},
   "outputs": [
    {
     "data": {
      "text/html": [
       "<div>\n",
       "<style scoped>\n",
       "    .dataframe tbody tr th:only-of-type {\n",
       "        vertical-align: middle;\n",
       "    }\n",
       "\n",
       "    .dataframe tbody tr th {\n",
       "        vertical-align: top;\n",
       "    }\n",
       "\n",
       "    .dataframe thead th {\n",
       "        text-align: right;\n",
       "    }\n",
       "</style>\n",
       "<table border=\"1\" class=\"dataframe\">\n",
       "  <thead>\n",
       "    <tr style=\"text-align: right;\">\n",
       "      <th></th>\n",
       "      <th>Red_county</th>\n",
       "      <th>Blue_county</th>\n",
       "      <th>Top_Deaths</th>\n",
       "      <th>Top_cases</th>\n",
       "      <th>Top_unemploy</th>\n",
       "      <th>Top_Poverty</th>\n",
       "    </tr>\n",
       "    <tr>\n",
       "      <th>county</th>\n",
       "      <th></th>\n",
       "      <th></th>\n",
       "      <th></th>\n",
       "      <th></th>\n",
       "      <th></th>\n",
       "      <th></th>\n",
       "    </tr>\n",
       "  </thead>\n",
       "  <tbody>\n",
       "    <tr>\n",
       "      <th>Abbeville</th>\n",
       "      <td>True</td>\n",
       "      <td>False</td>\n",
       "      <td>False</td>\n",
       "      <td>False</td>\n",
       "      <td>False</td>\n",
       "      <td>True</td>\n",
       "    </tr>\n",
       "    <tr>\n",
       "      <th>Acadia</th>\n",
       "      <td>True</td>\n",
       "      <td>False</td>\n",
       "      <td>False</td>\n",
       "      <td>True</td>\n",
       "      <td>False</td>\n",
       "      <td>True</td>\n",
       "    </tr>\n",
       "    <tr>\n",
       "      <th>Accomack</th>\n",
       "      <td>True</td>\n",
       "      <td>False</td>\n",
       "      <td>False</td>\n",
       "      <td>False</td>\n",
       "      <td>False</td>\n",
       "      <td>True</td>\n",
       "    </tr>\n",
       "    <tr>\n",
       "      <th>Ada</th>\n",
       "      <td>True</td>\n",
       "      <td>False</td>\n",
       "      <td>False</td>\n",
       "      <td>False</td>\n",
       "      <td>False</td>\n",
       "      <td>True</td>\n",
       "    </tr>\n",
       "    <tr>\n",
       "      <th>Adair</th>\n",
       "      <td>True</td>\n",
       "      <td>False</td>\n",
       "      <td>False</td>\n",
       "      <td>False</td>\n",
       "      <td>False</td>\n",
       "      <td>False</td>\n",
       "    </tr>\n",
       "    <tr>\n",
       "      <th>...</th>\n",
       "      <td>...</td>\n",
       "      <td>...</td>\n",
       "      <td>...</td>\n",
       "      <td>...</td>\n",
       "      <td>...</td>\n",
       "      <td>...</td>\n",
       "    </tr>\n",
       "    <tr>\n",
       "      <th>Yuma</th>\n",
       "      <td>True</td>\n",
       "      <td>False</td>\n",
       "      <td>False</td>\n",
       "      <td>True</td>\n",
       "      <td>True</td>\n",
       "      <td>True</td>\n",
       "    </tr>\n",
       "    <tr>\n",
       "      <th>Yuma</th>\n",
       "      <td>True</td>\n",
       "      <td>False</td>\n",
       "      <td>False</td>\n",
       "      <td>False</td>\n",
       "      <td>False</td>\n",
       "      <td>True</td>\n",
       "    </tr>\n",
       "    <tr>\n",
       "      <th>Zapata</th>\n",
       "      <td>True</td>\n",
       "      <td>False</td>\n",
       "      <td>False</td>\n",
       "      <td>False</td>\n",
       "      <td>True</td>\n",
       "      <td>True</td>\n",
       "    </tr>\n",
       "    <tr>\n",
       "      <th>Zavala</th>\n",
       "      <td>False</td>\n",
       "      <td>True</td>\n",
       "      <td>False</td>\n",
       "      <td>False</td>\n",
       "      <td>True</td>\n",
       "      <td>True</td>\n",
       "    </tr>\n",
       "    <tr>\n",
       "      <th>Ziebach</th>\n",
       "      <td>False</td>\n",
       "      <td>True</td>\n",
       "      <td>False</td>\n",
       "      <td>False</td>\n",
       "      <td>True</td>\n",
       "      <td>True</td>\n",
       "    </tr>\n",
       "  </tbody>\n",
       "</table>\n",
       "<p>3048 rows × 6 columns</p>\n",
       "</div>"
      ],
      "text/plain": [
       "           Red_county  Blue_county  Top_Deaths  Top_cases  Top_unemploy  \\\n",
       "county                                                                    \n",
       "Abbeville        True        False       False      False         False   \n",
       "Acadia           True        False       False       True         False   \n",
       "Accomack         True        False       False      False         False   \n",
       "Ada              True        False       False      False         False   \n",
       "Adair            True        False       False      False         False   \n",
       "...               ...          ...         ...        ...           ...   \n",
       "Yuma             True        False       False       True          True   \n",
       "Yuma             True        False       False      False         False   \n",
       "Zapata           True        False       False      False          True   \n",
       "Zavala          False         True       False      False          True   \n",
       "Ziebach         False         True       False      False          True   \n",
       "\n",
       "           Top_Poverty  \n",
       "county                  \n",
       "Abbeville         True  \n",
       "Acadia            True  \n",
       "Accomack          True  \n",
       "Ada               True  \n",
       "Adair            False  \n",
       "...                ...  \n",
       "Yuma              True  \n",
       "Yuma              True  \n",
       "Zapata            True  \n",
       "Zavala            True  \n",
       "Ziebach           True  \n",
       "\n",
       "[3048 rows x 6 columns]"
      ]
     },
     "execution_count": 28,
     "metadata": {},
     "output_type": "execute_result"
    }
   ],
   "source": [
    "df1"
   ]
  },
  {
   "cell_type": "markdown",
   "metadata": {},
   "source": [
    "### Implementing apriori algorithm on this dataset"
   ]
  },
  {
   "cell_type": "markdown",
   "metadata": {},
   "source": [
    "Now that the data is structured properly, we can generate frequent item sets that have a support of at least 7%"
   ]
  },
  {
   "cell_type": "code",
   "execution_count": 29,
   "metadata": {},
   "outputs": [],
   "source": [
    "frequent_itemsets = apriori(df1, min_support=0.07, use_colnames=True)"
   ]
  },
  {
   "cell_type": "code",
   "execution_count": 30,
   "metadata": {},
   "outputs": [
    {
     "data": {
      "text/html": [
       "<div>\n",
       "<style scoped>\n",
       "    .dataframe tbody tr th:only-of-type {\n",
       "        vertical-align: middle;\n",
       "    }\n",
       "\n",
       "    .dataframe tbody tr th {\n",
       "        vertical-align: top;\n",
       "    }\n",
       "\n",
       "    .dataframe thead th {\n",
       "        text-align: right;\n",
       "    }\n",
       "</style>\n",
       "<table border=\"1\" class=\"dataframe\">\n",
       "  <thead>\n",
       "    <tr style=\"text-align: right;\">\n",
       "      <th></th>\n",
       "      <th>antecedents</th>\n",
       "      <th>consequents</th>\n",
       "      <th>antecedent support</th>\n",
       "      <th>consequent support</th>\n",
       "      <th>support</th>\n",
       "      <th>confidence</th>\n",
       "      <th>lift</th>\n",
       "      <th>leverage</th>\n",
       "      <th>conviction</th>\n",
       "    </tr>\n",
       "  </thead>\n",
       "  <tbody>\n",
       "    <tr>\n",
       "      <th>0</th>\n",
       "      <td>(Red_county)</td>\n",
       "      <td>(Top_cases)</td>\n",
       "      <td>0.845472</td>\n",
       "      <td>0.101378</td>\n",
       "      <td>0.082021</td>\n",
       "      <td>0.097012</td>\n",
       "      <td>0.956934</td>\n",
       "      <td>-0.003691</td>\n",
       "      <td>0.995165</td>\n",
       "    </tr>\n",
       "    <tr>\n",
       "      <th>1</th>\n",
       "      <td>(Top_cases)</td>\n",
       "      <td>(Red_county)</td>\n",
       "      <td>0.101378</td>\n",
       "      <td>0.845472</td>\n",
       "      <td>0.082021</td>\n",
       "      <td>0.809061</td>\n",
       "      <td>0.956934</td>\n",
       "      <td>-0.003691</td>\n",
       "      <td>0.809305</td>\n",
       "    </tr>\n",
       "    <tr>\n",
       "      <th>2</th>\n",
       "      <td>(Top_Poverty)</td>\n",
       "      <td>(Red_county)</td>\n",
       "      <td>0.829396</td>\n",
       "      <td>0.845472</td>\n",
       "      <td>0.703412</td>\n",
       "      <td>0.848101</td>\n",
       "      <td>1.003109</td>\n",
       "      <td>0.002180</td>\n",
       "      <td>1.017306</td>\n",
       "    </tr>\n",
       "    <tr>\n",
       "      <th>3</th>\n",
       "      <td>(Red_county)</td>\n",
       "      <td>(Top_Poverty)</td>\n",
       "      <td>0.845472</td>\n",
       "      <td>0.829396</td>\n",
       "      <td>0.703412</td>\n",
       "      <td>0.831975</td>\n",
       "      <td>1.003109</td>\n",
       "      <td>0.002180</td>\n",
       "      <td>1.015348</td>\n",
       "    </tr>\n",
       "    <tr>\n",
       "      <th>4</th>\n",
       "      <td>(Top_Poverty)</td>\n",
       "      <td>(Blue_county)</td>\n",
       "      <td>0.829396</td>\n",
       "      <td>0.154528</td>\n",
       "      <td>0.125984</td>\n",
       "      <td>0.151899</td>\n",
       "      <td>0.982988</td>\n",
       "      <td>-0.002180</td>\n",
       "      <td>0.996900</td>\n",
       "    </tr>\n",
       "  </tbody>\n",
       "</table>\n",
       "</div>"
      ],
      "text/plain": [
       "     antecedents    consequents  antecedent support  consequent support  \\\n",
       "0   (Red_county)    (Top_cases)            0.845472            0.101378   \n",
       "1    (Top_cases)   (Red_county)            0.101378            0.845472   \n",
       "2  (Top_Poverty)   (Red_county)            0.829396            0.845472   \n",
       "3   (Red_county)  (Top_Poverty)            0.845472            0.829396   \n",
       "4  (Top_Poverty)  (Blue_county)            0.829396            0.154528   \n",
       "\n",
       "    support  confidence      lift  leverage  conviction  \n",
       "0  0.082021    0.097012  0.956934 -0.003691    0.995165  \n",
       "1  0.082021    0.809061  0.956934 -0.003691    0.809305  \n",
       "2  0.703412    0.848101  1.003109  0.002180    1.017306  \n",
       "3  0.703412    0.831975  1.003109  0.002180    1.015348  \n",
       "4  0.125984    0.151899  0.982988 -0.002180    0.996900  "
      ]
     },
     "execution_count": 30,
     "metadata": {},
     "output_type": "execute_result"
    }
   ],
   "source": [
    "rules = association_rules(frequent_itemsets, metric=\"lift\", min_threshold=0)\n",
    "rules.head()"
   ]
  },
  {
   "cell_type": "code",
   "execution_count": 31,
   "metadata": {},
   "outputs": [
    {
     "data": {
      "text/html": [
       "<div>\n",
       "<style scoped>\n",
       "    .dataframe tbody tr th:only-of-type {\n",
       "        vertical-align: middle;\n",
       "    }\n",
       "\n",
       "    .dataframe tbody tr th {\n",
       "        vertical-align: top;\n",
       "    }\n",
       "\n",
       "    .dataframe thead th {\n",
       "        text-align: right;\n",
       "    }\n",
       "</style>\n",
       "<table border=\"1\" class=\"dataframe\">\n",
       "  <thead>\n",
       "    <tr style=\"text-align: right;\">\n",
       "      <th></th>\n",
       "      <th>antecedents</th>\n",
       "      <th>consequents</th>\n",
       "      <th>antecedent support</th>\n",
       "      <th>consequent support</th>\n",
       "      <th>support</th>\n",
       "      <th>confidence</th>\n",
       "      <th>lift</th>\n",
       "      <th>leverage</th>\n",
       "      <th>conviction</th>\n",
       "    </tr>\n",
       "  </thead>\n",
       "  <tbody>\n",
       "    <tr>\n",
       "      <th>2</th>\n",
       "      <td>(Top_Poverty)</td>\n",
       "      <td>(Red_county)</td>\n",
       "      <td>0.829396</td>\n",
       "      <td>0.845472</td>\n",
       "      <td>0.703412</td>\n",
       "      <td>0.848101</td>\n",
       "      <td>1.003109</td>\n",
       "      <td>0.002180</td>\n",
       "      <td>1.017306</td>\n",
       "    </tr>\n",
       "    <tr>\n",
       "      <th>3</th>\n",
       "      <td>(Red_county)</td>\n",
       "      <td>(Top_Poverty)</td>\n",
       "      <td>0.845472</td>\n",
       "      <td>0.829396</td>\n",
       "      <td>0.703412</td>\n",
       "      <td>0.831975</td>\n",
       "      <td>1.003109</td>\n",
       "      <td>0.002180</td>\n",
       "      <td>1.015348</td>\n",
       "    </tr>\n",
       "    <tr>\n",
       "      <th>7</th>\n",
       "      <td>(Top_cases)</td>\n",
       "      <td>(Top_Poverty)</td>\n",
       "      <td>0.101378</td>\n",
       "      <td>0.829396</td>\n",
       "      <td>0.086286</td>\n",
       "      <td>0.851133</td>\n",
       "      <td>1.026207</td>\n",
       "      <td>0.002204</td>\n",
       "      <td>1.146012</td>\n",
       "    </tr>\n",
       "    <tr>\n",
       "      <th>9</th>\n",
       "      <td>(Top_unemploy)</td>\n",
       "      <td>(Top_Poverty)</td>\n",
       "      <td>0.085630</td>\n",
       "      <td>0.829396</td>\n",
       "      <td>0.084646</td>\n",
       "      <td>0.988506</td>\n",
       "      <td>1.191838</td>\n",
       "      <td>0.013625</td>\n",
       "      <td>14.842520</td>\n",
       "    </tr>\n",
       "  </tbody>\n",
       "</table>\n",
       "</div>"
      ],
      "text/plain": [
       "      antecedents    consequents  antecedent support  consequent support  \\\n",
       "2   (Top_Poverty)   (Red_county)            0.829396            0.845472   \n",
       "3    (Red_county)  (Top_Poverty)            0.845472            0.829396   \n",
       "7     (Top_cases)  (Top_Poverty)            0.101378            0.829396   \n",
       "9  (Top_unemploy)  (Top_Poverty)            0.085630            0.829396   \n",
       "\n",
       "    support  confidence      lift  leverage  conviction  \n",
       "2  0.703412    0.848101  1.003109  0.002180    1.017306  \n",
       "3  0.703412    0.831975  1.003109  0.002180    1.015348  \n",
       "7  0.086286    0.851133  1.026207  0.002204    1.146012  \n",
       "9  0.084646    0.988506  1.191838  0.013625   14.842520  "
      ]
     },
     "execution_count": 31,
     "metadata": {},
     "output_type": "execute_result"
    }
   ],
   "source": [
    "rules[ (rules['lift'] >= 1) &\n",
    "       (rules['confidence'] >= 0.8) ]"
   ]
  },
  {
   "cell_type": "markdown",
   "metadata": {},
   "source": [
    "#### Observations"
   ]
  },
  {
   "cell_type": "markdown",
   "metadata": {},
   "source": [
    "We can observe from the above results that  For instance, we can see that rows with high lift occurs more frequently.\n",
    "\n",
    "Also top poverty hit counties are happened to be more red counties and also high number of covid cases are observed in the counties where poverty is high."
   ]
  },
  {
   "cell_type": "markdown",
   "metadata": {},
   "source": [
    "### a). How can you apply association rules to your choice of data for your project? If the data doesn't lend itself to association rules, describe a covid-19 data source that you can use with association rules (with some data preparation of course)."
   ]
  },
  {
   "cell_type": "markdown",
   "metadata": {},
   "source": [
    "In order to apply association rules we have selected dataset from Kaggle which has different features such as votes of Trump,Biden,Deaths,Postives cases,Poverty and Unemployment fields. We have applied association rules by implementing  apriori algorithm on our selected dataset as mentioned in the above section. Some of the associations we found are \n",
    "\n",
    "Poverty is high in the Red counties with support of 70% and confidence of 80%.\n",
    "Number of cases is high in the counties which have more property with support of 8% and  confidence of 85%."
   ]
  },
  {
   "cell_type": "markdown",
   "metadata": {},
   "source": [
    "### b)  What types of data preparation are necessary to ready your choice of data for association rules?"
   ]
  },
  {
   "cell_type": "markdown",
   "metadata": {},
   "source": [
    "- Based on number of votes favoured to Trump and Biden we have calculated that particular county is either Red or Blue.\n",
    "- We have calculated counties which have top 5% death and positive cases and also counties which have top 10% Unemployment and proverty population. We have one hot-encoded these column values based on the above conditions.\n",
    "- In order to prepare the data ready for association rules we need to make sure there are no null values in the dataset.We need to drop the rows that don’t have values for tin the dataframe\n",
    "- It is also required the values of the dataframe has to be either 0,1 or True,False values.\n",
    "- We will consolidate the dataframe in such a way that each row corresponds as transaction that contains the values corresponds to different features."
   ]
  },
  {
   "cell_type": "markdown",
   "metadata": {},
   "source": [
    "### c)  How would you plan to limit the consequent to get the types of rules that can be useful?\n",
    "\n",
    " Association rule mining algorithms normally discover a huge quantity of rules and do not guarantee that all the rules found are relevant. Support and confidence factors can be used for obtaining interesting rules which have values for these factors greater than a threshold value. Although these two parameters allow the pruning of many associations, another common constraint is to indicate the attributes that must or cannot be present in the antecedent or consequent of the discovered rules.\n",
    " Another solution is to evaluate, and post-prune the obtained rules in order to find the most interesting rules for a specific problem. Traditionally, the use of objective measures has been suggested , such as support and confidence,as well as others measures such as Laplace, chi-square statistic,correlation coefficient, entropy gain, gini, interest, conviction, etc. These measures can be used for ranking the obtained rules in order than the user can select the rules with highest values in the measures that he/she is more interested.\n",
    "Most of the subjective approaches involve user participation in order to express, in accordance with his or her previous knowledge, which rules are of interest. Some suggested subjective measures are:\n",
    "\n",
    "#### • Unexpectedness:\n",
    "Rules are interesting if they are unknown to the user or contradict the user’s knowledge.\n",
    "#### • Actionability:\n",
    "Rules are interesting if users can do something with them to their advantage.\n",
    "\n",
    "The number of rules can be decreased by only showing unexpected and actionable rules to the teacher and not all the discovered rules. In, an Interestingness Analysis System (IAS) is proposed. It compares rules discovered with the user's knowledge about the area of interest. Let U be the set of user’s specifications representing his/her knowledge space, A be the set of discovered association rules,this algorithm implements a pruning technique for removing redundant or insignificant rules by ranking and classifying them into four categories:\n",
    "####  Conforming rules: \n",
    "a discovered rule Ai∈A conforms to a piece of user’s knowledge Uj if both the antecedent and the consequent parts of Ai match those of Uj∈U well.\n",
    "#### Unexpected consequent rules:\n",
    "a discovered rule Ai∈A has unexpected consequents with respect to Uj∈U if the antecedent part of Ai matches that of Uj well.\n",
    "#### Unexpected condition rules: \n",
    "a discovered rule Ai∈A has unexpected conditions with respect to Uj∈U if the consequent part of Ai matches that of Uj well, but not the antecedent part.\n",
    "#### Both-side unexpected rules: \n",
    "a discovered rule Ai∈A is both-side unexpected withrespect to Uj∈U if the antecedent and consequent parts of Ai don’t match those of Uj well."
   ]
  },
  {
   "cell_type": "markdown",
   "metadata": {},
   "source": [
    "### d) What support and confidence will be used for good results?\n",
    "Support is an important measure because a rule that has very low support might occur simply by chance. Also, from a business perspective a low support rule is unlikely to be interesting because it might not be profitable to promote items that customers seldom buy together. For these reasons, we are interested in finding rules whose support is greater than some user-defined threshold.\n",
    "\n",
    "Confidence, on the other hand, measures the reliability of the inference made by a rule. For a given rule A → B , the higher the confidence, the more likely it is for B to be present in transactions that contain A. Confidence also provides an estimate of the conditional probability of B given A"
   ]
  },
  {
   "attachments": {
    "image.png": {
     "image/png": "[encoded data removed]"
    }
   },
   "cell_type": "markdown",
   "metadata": {},
   "source": [
    "### e) How does the concept of lift apply to the evaluation of your rules?\n",
    "\n",
    "Lift is also known as Interest factor. \n",
    "\n",
    "I(A, B) = s(A, B)/s(A) × s(B)=> support/antecedent suport * consequent support\n",
    "![image.png](attachment:image.png)\n",
    "\n",
    "For the above example thus 0.703412 / 0.829396 * 0.45472 = 1.003109 which suggests that strong  positive relationship between the poverty in red_county which belongs to Donold Trump.\n",
    "\n",
    "For the above example thus 0.125984/0.829396 *0.154528\t= 0.095693 which suggests that strong negative relationship between the poverty in blue_county which belongs to Biden."
   ]
  },
  {
   "cell_type": "markdown",
   "metadata": {},
   "source": [
    "### References"
   ]
  },
  {
   "cell_type": "markdown",
   "metadata": {},
   "source": [
    "1. https://docs.oracle.com/cd/E11882_01/datamine.112/e16808/algo_apriori.htm#DMCON287"
   ]
  },
  {
   "cell_type": "markdown",
   "metadata": {},
   "source": [
    "2. https://www-users.cs.umn.edu/~kumar001/dmbook/ch5_association_analysis.pdf"
   ]
  },
  {
   "cell_type": "markdown",
   "metadata": {},
   "source": [
    "3. https://sci2s.ugr.es/keel/pdf/specific/congreso/3-associationrules-Final.pdf"
   ]
  },
  {
   "cell_type": "code",
   "execution_count": null,
   "metadata": {},
   "outputs": [],
   "source": []
  }
 ],
 "metadata": {
  "kernelspec": {
   "display_name": "Python 3",
   "language": "python",
   "name": "python3"
  },
  "language_info": {
   "codemirror_mode": {
    "name": "ipython",
    "version": 3
   },
   "file_extension": ".py",
   "mimetype": "text/x-python",
   "name": "python",
   "nbconvert_exporter": "python",
   "pygments_lexer": "ipython3",
   "version": "3.7.4"
  }
 },
 "nbformat": 4,
 "nbformat_minor": 2
}
