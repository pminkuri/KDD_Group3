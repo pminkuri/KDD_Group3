{
 "cells": [
  {
   "cell_type": "markdown",
   "metadata": {},
   "source": [
    "# Group Members \n",
    "Rohit Alavala - 800952197 <br>\n",
    "Sai Bharadwaj Reddy - 801166672 <br>\n",
    "Amruta Deshmukh - 801217189 <br>\n",
    "Rishant Dutt - 801104239 <br>"
   ]
  },
  {
   "cell_type": "markdown",
   "metadata": {},
   "source": [
    "Data Source :-\n",
    "\n",
    "https://www.kaggle.com/etsc9287/2020-general-election-polls"
   ]
  },
  {
   "cell_type": "markdown",
   "metadata": {},
   "source": [
    "A). How can you apply association rules to your choice of data for your project?  If the data doesn't lend itself to association rules, describe a covid-19 data source that you can use with association rules (with some data preparation of course). <br>\n",
    "\n",
    "Our assoication rule could be, if the population of a county is greater than 100,000, then biden wins. Our support is 37% and our confidence is 62%. <br>\n"
   ]
  },
  {
   "cell_type": "markdown",
   "metadata": {},
   "source": [
    "B). What types of data preparation are necessary to ready your choice of data for association rules? <br>\n",
    "\n",
    "We used the total votes trump and biden got in the 2020 elections. To calculate a new column which reflected the winner in each county, we also used the total population column which provided us with the population estimates for each county. Using these two pieces of information we could test our association rule and got the formentioned results. Our data preparation included using existing columns like \"votes20_donaldtrump\", \"votes20_joebiden\", to calcualte a new column which gave us the winner in each county based on the difference of the two columns. To check whether the county population was greater than 100,000, we used the column \"totalpop\"."
   ]
  },
  {
   "cell_type": "markdown",
   "metadata": {},
   "source": [
    "C). How would you plan to limit the consequent to get the types of rules that can be useful? <br>\n",
    "\n",
    "It does not matter what you have in the antecedent for such a frequent consequent. The confidence for an association rule having a very frequent consequent will always be high."
   ]
  },
  {
   "cell_type": "markdown",
   "metadata": {},
   "source": [
    "D). What support and confidence will be used for good results? <br>\n",
    "\n",
    "A very low support, we do not have enough information on the relationship between its items and hence no conclusions can be drawn from such a rule. In our data, the support was not very high because biden did not win as many counties as trump did. A high cofidence shows, among the data where the assosication rule can be applied, it holds true. In our data, of all the counties biden won, 62% had a population of greater than 100,000, which is decent.  "
   ]
  },
  {
   "cell_type": "markdown",
   "metadata": {},
   "source": [
    "E). How does the concept of lift apply to the evaluation of your rules? <br>\n",
    "\n",
    "Ans. The value of the lift metric for our dataset and the stated association rule is 2.1, which tells us that counties with population of oven 100,000 were roughly 2 times as likely to vote go to Joe Biden as compared to Donald Trump, during the 2020 US Elections.\n",
    "\n",
    "Given the lift value of 2.1, our association does seem to be somewhat correct."
   ]
  }
 ],
 "metadata": {
  "kernelspec": {
   "display_name": "Python 3",
   "language": "python",
   "name": "python3"
  },
  "language_info": {
   "codemirror_mode": {
    "name": "ipython",
    "version": 3
   },
   "file_extension": ".py",
   "mimetype": "text/x-python",
   "name": "python",
   "nbconvert_exporter": "python",
   "pygments_lexer": "ipython3",
   "version": "3.7.4"
  }
 },
 "nbformat": 4,
 "nbformat_minor": 4
}
